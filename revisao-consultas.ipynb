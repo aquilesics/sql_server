{
    "metadata": {
        "kernelspec": {
            "name": "SQL",
            "display_name": "SQL",
            "language": "sql"
        },
        "language_info": {
            "name": "sql",
            "version": ""
        },
        "extensions": {
            "azuredatastudio": {
                "version": 1,
                "views": []
            }
        }
    },
    "nbformat_minor": 2,
    "nbformat": 4,
    "cells": [
        {
            "cell_type": "markdown",
            "source": [
                "## Restore 'SUCOS\\_VENDAS' database [here](https://s3.amazonaws.com/caelum-online-public/836-consultas-com-sql-server-2017/01/SUCOS_VENDAS.BAK%5D%5D(https://s3.amazonaws.com/caelum-online-public/836-consultas-com-sql-server-2017/01/SUCOS_VENDAS.BAK%5D)"
            ],
            "metadata": {
                "azdata_cell_guid": "1011fa1e-667d-44bc-a87a-89337dc4ec9e"
            },
            "attachments": {}
        },
        {
            "cell_type": "code",
            "source": [
                "select s.name as schema_name, \n",
                "    s.schema_id,\n",
                "    u.name as schema_owner\n",
                "from sys.schemas s\n",
                "    inner join sys.sysusers u\n",
                "        on u.uid = s.principal_id\n",
                "order by s.name"
            ],
            "metadata": {
                "azdata_cell_guid": "78d52dbc-e1e5-4ff5-a34a-99f71a0a2085",
                "tags": []
            },
            "outputs": [],
            "execution_count": null
        },
        {
            "cell_type": "markdown",
            "source": [
                "## Describe tables ↓"
            ],
            "metadata": {
                "azdata_cell_guid": "83319e60-c01c-4f8d-9c59-2ff37ee7bffb"
            },
            "attachments": {}
        },
        {
            "cell_type": "code",
            "source": [
                "EXEC sp_help'NOTAS FISCAIS'"
            ],
            "metadata": {
                "azdata_cell_guid": "5f8b6ab9-d95b-45b8-9ea3-bc0f302e688a"
            },
            "outputs": [],
            "execution_count": null
        },
        {
            "cell_type": "markdown",
            "source": [
                "### OR"
            ],
            "metadata": {
                "azdata_cell_guid": "fd875046-1f46-45f5-b7c6-fafec0078078"
            }
        },
        {
            "cell_type": "code",
            "source": [
                "SELECT *\n",
                "FROM INFORMATION_SCHEMA.COLUMNS\n",
                "WHERE table_name = 'NOTAS FISCAIS'"
            ],
            "metadata": {
                "azdata_cell_guid": "cf9f484d-1a62-4ae3-a07e-e86bbe5b96b0"
            },
            "outputs": [],
            "execution_count": null
        },
        {
            "cell_type": "markdown",
            "source": [
                "## LIKE"
            ],
            "metadata": {
                "azdata_cell_guid": "5007fe0c-b019-41af-ae83-5e01683546ed"
            },
            "attachments": {}
        },
        {
            "cell_type": "code",
            "source": [
                "SELECT [NOME]\n",
                "FROM [TABELA DE CLIENTES]\n",
                "WHERE NOME LIKE '%Mattos'"
            ],
            "metadata": {
                "azdata_cell_guid": "934d2ea0-329b-45ef-b543-97d0ad1a9950"
            },
            "outputs": [],
            "execution_count": null
        },
        {
            "cell_type": "markdown",
            "source": [
                "## AGRUPAMENTO"
            ],
            "metadata": {
                "azdata_cell_guid": "25e70217-27fe-45f0-98f7-f95d4a224d72"
            }
        },
        {
            "cell_type": "code",
            "source": [
                "SELECT [CIDADE] ,[BAIRRO],[LIMITE DE CREDITO]\n",
                "FROM [TABELA DE CLIENTES]\n",
                "-- ORDER BY  AVG([LIMITE DE CREDITO]) DESC"
            ],
            "metadata": {
                "azdata_cell_guid": "5cf9579f-a2b7-47a4-b8f9-8ee55fedabbd"
            },
            "outputs": [],
            "execution_count": null
        },
        {
            "cell_type": "code",
            "source": [
                "SELECT [CIDADE],[BAIRRO], AVG([LIMITE DE CREDITO])\n",
                "FROM [TABELA DE CLIENTES]\n",
                "GROUP BY [CIDADE], [BAIRRO]\n",
                "-- HAVING AVG([LIMITE DE CREDITO]) >= 140000.0000\n",
                "ORDER BY  AVG([LIMITE DE CREDITO]) DESC\n",
                ""
            ],
            "metadata": {
                "azdata_cell_guid": "edcfd7dd-9f4e-4643-a01d-5951edcf310a"
            },
            "outputs": [],
            "execution_count": null
        },
        {
            "cell_type": "markdown",
            "source": [
                "<span style=\"color: #569cd6;\">- Syntax:</span>\n",
                "\n",
                "<span style=\"color: #569cd6;\">CASE</span> <span style=\"color: #569cd6;\">WHEN</span> <span style=\"color: #ce9178;\">'condition'</span> <span style=\"color: #569cd6;\">then</span> <span style=\"color: #ce9178;\">'option'</span>\n",
                "\n",
                "<span style=\"color: #569cd6;\">WHEN</span> <span style=\"color: #ce9178;\">'condition'</span> <span style=\"color: #569cd6;\">then</span> <span style=\"color: #ce9178;\">'option'</span>\n",
                "\n",
                "<span style=\"color: #569cd6;\">else</span> <span style=\"color: #ce9178;\">'default'</span>\n",
                "\n",
                "<span style=\"color: #569cd6;\">END</span>"
            ],
            "metadata": {
                "azdata_cell_guid": "e5c1294b-4205-45f9-bf93-7d437c56b3ff"
            },
            "attachments": {}
        },
        {
            "cell_type": "markdown",
            "source": [
                "## CASE"
            ],
            "metadata": {
                "azdata_cell_guid": "41585698-679c-4f8c-903f-43bb8ff1a7e6"
            },
            "attachments": {}
        },
        {
            "cell_type": "code",
            "source": [
                "select year([DATA]),\n",
                "CASE WHEN [IMPOSTO] <= 3000.0 THEN 'ALTO'\n",
                "     else 'BAIXO' \n",
                "END,\n",
                "sum([IMPOSTO])\n",
                "FROM [NOTAS FISCAIS]\n",
                "GROUP BY YEAR([DATA]),\n",
                "CASE WHEN [IMPOSTO] <= 3000.0 THEN 'ALTO'\n",
                "     else 'BAIXO' \n",
                "END"
            ],
            "metadata": {
                "azdata_cell_guid": "4768723e-5373-4a59-9e0b-309a91229771"
            },
            "outputs": [],
            "execution_count": null
        },
        {
            "cell_type": "markdown",
            "source": [
                "## Inner Join"
            ],
            "metadata": {
                "azdata_cell_guid": "eabf980e-2b85-4705-b3f5-a1cec8015549"
            },
            "attachments": {}
        },
        {
            "cell_type": "code",
            "source": [
                "SELECT top 5 * from [TABELA DE VENDEDORES]\n",
                "SELECT top 5 * from [NOTAS FISCAIS]"
            ],
            "metadata": {
                "azdata_cell_guid": "74b50ec8-b76c-40b0-affc-d4dc9383a8cc",
                "tags": [
                    "hide_input"
                ]
            },
            "outputs": [],
            "execution_count": null
        },
        {
            "cell_type": "code",
            "source": [
                "SELECT TOP 5 * \n",
                "from [TABELA DE VENDEDORES] V\n",
                "INNER JOIN [NOTAS FISCAIS] N ON V.[MATRICULA] = N.MATRICULA \n",
                "ORDER BY [NOME]"
            ],
            "metadata": {
                "azdata_cell_guid": "6b83d165-f728-43c3-ae7a-4105a05735c6"
            },
            "outputs": [],
            "execution_count": null
        },
        {
            "cell_type": "code",
            "source": [
                "SELECT V.MATRICULA, V.NOME, COUNT(*)\n",
                "FROM [TABELA DE VENDEDORES] V \n",
                "INNER JOIN [NOTAS FISCAIS] N ON N.MATRICULA = V.MATRICULA \n",
                "GROUP BY V.MATRICULA, V.NOME"
            ],
            "metadata": {
                "azdata_cell_guid": "fb9f51e7-e47a-4006-9b4b-ab2a8fa3f53c"
            },
            "outputs": [],
            "execution_count": null
        },
        {
            "cell_type": "markdown",
            "source": [
                "## LEFT and RIGHT JOIN"
            ],
            "metadata": {
                "azdata_cell_guid": "dcbbb8fb-7669-46ba-933e-627d81a336ae"
            },
            "attachments": {}
        },
        {
            "cell_type": "code",
            "source": [
                "SELECT V.MATRICULA, V.NOME, COUNT(*)\n",
                "FROM [TABELA DE VENDEDORES] V \n",
                "LEFT JOIN [NOTAS FISCAIS] N ON N.MATRICULA = V.MATRICULA \n",
                "GROUP BY V.MATRICULA, V.NOME\n",
                "\n",
                "SELECT V.MATRICULA, V.NOME, COUNT(*)\n",
                "FROM [TABELA DE VENDEDORES] V \n",
                "RIGHT JOIN [NOTAS FISCAIS] N ON N.MATRICULA = V.MATRICULA \n",
                "GROUP BY V.MATRICULA, V.NOME"
            ],
            "metadata": {
                "azdata_cell_guid": "0a1629d7-db4b-495a-88b2-b256e59a8c87"
            },
            "outputs": [],
            "execution_count": null
        },
        {
            "cell_type": "markdown",
            "source": [
                "## Sub query"
            ],
            "metadata": {
                "azdata_cell_guid": "044b13db-12ec-4378-b9fb-ff6eec0d7775"
            },
            "attachments": {}
        },
        {
            "cell_type": "code",
            "source": [
                "SELECT NOVA.NOME,NOVA.[DATA ADMISSÃO]\n",
                "FROM (SELECT * \n",
                "      from [TABELA DE VENDEDORES] V\n",
                "      ) as NOVA \n",
                "WHERE YEAR(NOVA.[DATA ADMISSÃO]) in ('2017','2016')     "
            ],
            "metadata": {
                "azdata_cell_guid": "d2eb4a61-4c54-4e38-b4eb-57b2ca185bd3",
                "tags": []
            },
            "outputs": [
                {
                    "output_type": "display_data",
                    "data": {
                        "text/html": "(2 rows affected)"
                    },
                    "metadata": {}
                },
                {
                    "output_type": "display_data",
                    "data": {
                        "text/html": "Total execution time: 00:00:00.004"
                    },
                    "metadata": {}
                },
                {
                    "output_type": "execute_result",
                    "metadata": {},
                    "execution_count": 86,
                    "data": {
                        "application/vnd.dataresource+json": {
                            "schema": {
                                "fields": [
                                    {
                                        "name": "NOME"
                                    },
                                    {
                                        "name": "DATA ADMISSÃO"
                                    }
                                ]
                            },
                            "data": [
                                {
                                    "0": "Roberta Martins",
                                    "1": "2017-03-18"
                                },
                                {
                                    "0": "Pericles Alves",
                                    "1": "2016-08-21"
                                }
                            ]
                        },
                        "text/html": [
                            "<table>",
                            "<tr><th>NOME</th><th>DATA ADMISSÃO</th></tr>",
                            "<tr><td>Roberta Martins</td><td>2017-03-18</td></tr>",
                            "<tr><td>Pericles Alves</td><td>2016-08-21</td></tr>",
                            "</table>"
                        ]
                    }
                }
            ],
            "execution_count": 86
        }
    ]
}