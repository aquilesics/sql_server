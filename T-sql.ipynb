{
    "metadata": {
        "kernelspec": {
            "name": "SQL",
            "display_name": "SQL",
            "language": "sql"
        },
        "language_info": {
            "name": "sql",
            "version": ""
        },
        "extensions": {
            "azuredatastudio": {
                "version": 1,
                "views": []
            }
        }
    },
    "nbformat_minor": 2,
    "nbformat": 4,
    "cells": [
        {
            "cell_type": "markdown",
            "source": [
                "## VARIAVEIS\n",
                ""
            ],
            "metadata": {
                "azdata_cell_guid": "339dfb14-b2c4-4d90-8543-47b991bacc11"
            }
        },
        {
            "cell_type": "code",
            "source": [
                "-- DECLARA VARIAVEL\n",
                "DECLARE @IDADE INT\n",
                "DECLARE @NOME VARCHAR(50)\n",
                "DECLARE @DATA DATE\n",
                "\n",
                "-- ATRIBUI VALORES A VARIAVEIS\n",
                "\n",
                "SET @IDADE = 20\n",
                "PRINT @IDADE\n",
                "\n",
                "SET @NOME = 'JOAO DA SILVA'\n",
                "PRINT @NOME\n",
                "\n",
                "\n",
                "SET @DATA = '20190709'\n",
                "PRINT @DATA\n",
                "\n",
                ""
            ],
            "metadata": {
                "azdata_cell_guid": "2978b277-98d5-43ae-af33-d00a1d1e409a"
            },
            "outputs": [],
            "execution_count": null
        },
        {
            "cell_type": "markdown",
            "source": [
                "## CONTROLE DE FLUXO\n",
                ""
            ],
            "metadata": {
                "azdata_cell_guid": "b0051606-76ab-4cbe-93e6-da23edc59ca3"
            },
            "attachments": {}
        },
        {
            "cell_type": "code",
            "source": [
                "IF OBJECT_ID('TABELA_TESTE','U') IS NULL \n",
                "BEGIN\n",
                "    CREATE TABLE TABELA_TESTE (ID VARCHAR(10))\n",
                "    PRINT 'TABELA CRIADA'\n",
                "END\n",
                "ELSE \n",
                "PRINT 'TABELA JA EXISTE!'"
            ],
            "metadata": {
                "azdata_cell_guid": "87a518f8-5da8-43e6-a8be-114d772bc544",
                "tags": []
            },
            "outputs": [],
            "execution_count": null
        },
        {
            "cell_type": "markdown",
            "source": [
                "## WHILE"
            ],
            "metadata": {
                "azdata_cell_guid": "b56e9b54-3ca8-49fa-855d-5cc92837fc85"
            }
        },
        {
            "cell_type": "code",
            "source": [
                "DECLARE @INICIO INT, @FIM INT\n",
                "\n",
                "SET @INICIO = 1\n",
                "SET @FIM = 24\n",
                "\n",
                "WHILE @INICIO <= @FIM\n",
                "BEGIN \n",
                "    PRINT @INICIO\n",
                "    SET @INICIO += 1\n",
                "END"
            ],
            "metadata": {
                "azdata_cell_guid": "216fbbf2-e374-4142-af5c-6131d562e88e"
            },
            "outputs": [],
            "execution_count": null
        }
    ]
}